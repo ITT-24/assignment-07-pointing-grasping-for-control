{
 "cells": [
  {
   "cell_type": "code",
   "execution_count": 57,
   "metadata": {},
   "outputs": [],
   "source": [
    "import numpy as np\n",
    "import pandas as pd\n",
    "from sklearn.linear_model import LinearRegression\n",
    "import os\n",
    "import matplotlib.pyplot as plt\n",
    "import seaborn as sns\n",
    "import math"
   ]
  },
  {
   "cell_type": "markdown",
   "metadata": {},
   "source": [
    "Read data"
   ]
  },
  {
   "cell_type": "code",
   "execution_count": 58,
   "metadata": {},
   "outputs": [
    {
     "name": "stdout",
     "output_type": "stream",
     "text": [
      "mouse\n",
      "mouse_latency\n",
      "pose\n",
      "touchpad\n",
      "mouse\n",
      "mouse_latency\n",
      "pose\n",
      "touchpad\n",
      "mouse\n",
      "mouse_latency\n",
      "pose\n",
      "touchpad\n",
      "mouse\n",
      "mouse_latency\n",
      "pose\n",
      "touchpad\n",
      "mouse\n",
      "mouse_latency\n",
      "pose\n",
      "touchpad\n"
     ]
    },
    {
     "data": {
      "text/html": [
       "<div>\n",
       "<style scoped>\n",
       "    .dataframe tbody tr th:only-of-type {\n",
       "        vertical-align: middle;\n",
       "    }\n",
       "\n",
       "    .dataframe tbody tr th {\n",
       "        vertical-align: top;\n",
       "    }\n",
       "\n",
       "    .dataframe thead th {\n",
       "        text-align: right;\n",
       "    }\n",
       "</style>\n",
       "<table border=\"1\" class=\"dataframe\">\n",
       "  <thead>\n",
       "    <tr style=\"text-align: right;\">\n",
       "      <th></th>\n",
       "      <th>distance</th>\n",
       "      <th>size</th>\n",
       "      <th>valid</th>\n",
       "      <th>time</th>\n",
       "      <th>success</th>\n",
       "      <th>condition</th>\n",
       "    </tr>\n",
       "  </thead>\n",
       "  <tbody>\n",
       "    <tr>\n",
       "      <th>0</th>\n",
       "      <td>200</td>\n",
       "      <td>30</td>\n",
       "      <td>True</td>\n",
       "      <td>0.664888</td>\n",
       "      <td>True</td>\n",
       "      <td>mouse</td>\n",
       "    </tr>\n",
       "    <tr>\n",
       "      <th>1</th>\n",
       "      <td>200</td>\n",
       "      <td>30</td>\n",
       "      <td>True</td>\n",
       "      <td>0.568198</td>\n",
       "      <td>True</td>\n",
       "      <td>mouse</td>\n",
       "    </tr>\n",
       "    <tr>\n",
       "      <th>2</th>\n",
       "      <td>200</td>\n",
       "      <td>30</td>\n",
       "      <td>True</td>\n",
       "      <td>0.631911</td>\n",
       "      <td>True</td>\n",
       "      <td>mouse</td>\n",
       "    </tr>\n",
       "    <tr>\n",
       "      <th>3</th>\n",
       "      <td>200</td>\n",
       "      <td>30</td>\n",
       "      <td>True</td>\n",
       "      <td>0.584164</td>\n",
       "      <td>True</td>\n",
       "      <td>mouse</td>\n",
       "    </tr>\n",
       "    <tr>\n",
       "      <th>4</th>\n",
       "      <td>200</td>\n",
       "      <td>30</td>\n",
       "      <td>True</td>\n",
       "      <td>0.615198</td>\n",
       "      <td>True</td>\n",
       "      <td>mouse</td>\n",
       "    </tr>\n",
       "    <tr>\n",
       "      <th>...</th>\n",
       "      <td>...</td>\n",
       "      <td>...</td>\n",
       "      <td>...</td>\n",
       "      <td>...</td>\n",
       "      <td>...</td>\n",
       "      <td>...</td>\n",
       "    </tr>\n",
       "    <tr>\n",
       "      <th>292</th>\n",
       "      <td>300</td>\n",
       "      <td>50</td>\n",
       "      <td>True</td>\n",
       "      <td>1.049852</td>\n",
       "      <td>True</td>\n",
       "      <td>touchpad</td>\n",
       "    </tr>\n",
       "    <tr>\n",
       "      <th>293</th>\n",
       "      <td>300</td>\n",
       "      <td>50</td>\n",
       "      <td>True</td>\n",
       "      <td>1.215523</td>\n",
       "      <td>True</td>\n",
       "      <td>touchpad</td>\n",
       "    </tr>\n",
       "    <tr>\n",
       "      <th>294</th>\n",
       "      <td>300</td>\n",
       "      <td>50</td>\n",
       "      <td>True</td>\n",
       "      <td>1.105559</td>\n",
       "      <td>True</td>\n",
       "      <td>touchpad</td>\n",
       "    </tr>\n",
       "    <tr>\n",
       "      <th>295</th>\n",
       "      <td>300</td>\n",
       "      <td>50</td>\n",
       "      <td>True</td>\n",
       "      <td>1.330810</td>\n",
       "      <td>True</td>\n",
       "      <td>touchpad</td>\n",
       "    </tr>\n",
       "    <tr>\n",
       "      <th>296</th>\n",
       "      <td>300</td>\n",
       "      <td>50</td>\n",
       "      <td>True</td>\n",
       "      <td>1.235299</td>\n",
       "      <td>True</td>\n",
       "      <td>touchpad</td>\n",
       "    </tr>\n",
       "  </tbody>\n",
       "</table>\n",
       "<p>4644 rows × 6 columns</p>\n",
       "</div>"
      ],
      "text/plain": [
       "    distance size valid      time success condition\n",
       "0        200   30  True  0.664888    True     mouse\n",
       "1        200   30  True  0.568198    True     mouse\n",
       "2        200   30  True  0.631911    True     mouse\n",
       "3        200   30  True  0.584164    True     mouse\n",
       "4        200   30  True  0.615198    True     mouse\n",
       "..       ...  ...   ...       ...     ...       ...\n",
       "292      300   50  True  1.049852    True  touchpad\n",
       "293      300   50  True  1.215523    True  touchpad\n",
       "294      300   50  True  1.105559    True  touchpad\n",
       "295      300   50  True  1.330810    True  touchpad\n",
       "296      300   50  True  1.235299    True  touchpad\n",
       "\n",
       "[4644 rows x 6 columns]"
      ]
     },
     "execution_count": 58,
     "metadata": {},
     "output_type": "execute_result"
    }
   ],
   "source": [
    "df = pd.DataFrame(columns=[\"distance\", \"size\", \"valid\", \"time\", \"success\", \"condition\"])\n",
    "path = \"./results\"\n",
    "for (root, dir, files) in os.walk(path):\n",
    "    for fname in files:\n",
    "        if fname.endswith(\".csv\"):\n",
    "            condition = fname[2:-4]\n",
    "            print(condition)\n",
    "            with open(f\"{path}/{fname}\", \"r\") as f:\n",
    "                new_data = pd.read_csv(f, index_col=0)\n",
    "                new_data[\"condition\"] = condition\n",
    "                df = pd.concat((df, new_data))\n",
    "df"
   ]
  },
  {
   "cell_type": "markdown",
   "metadata": {},
   "source": [
    "Preprocess data"
   ]
  },
  {
   "cell_type": "code",
   "execution_count": 59,
   "metadata": {},
   "outputs": [],
   "source": [
    "df = df[df[\"valid\"] == True]\n",
    "df = df[df[\"success\"] == True]\n",
    "df = df.dropna()"
   ]
  },
  {
   "cell_type": "code",
   "execution_count": 60,
   "metadata": {},
   "outputs": [],
   "source": [
    "def index_of_difficulty(size, distance):\n",
    "    division = (2 * distance) / size\n",
    "    return math.log(division, 2)"
   ]
  },
  {
   "cell_type": "code",
   "execution_count": 61,
   "metadata": {},
   "outputs": [],
   "source": [
    "df['ID'] = df.apply(lambda row: index_of_difficulty(row['size'],row['distance']),axis=1)"
   ]
  },
  {
   "cell_type": "code",
   "execution_count": 62,
   "metadata": {},
   "outputs": [],
   "source": [
    "conditions = df[\"condition\"].unique()\n",
    "data_by_conditions = {}\n",
    "for cond in conditions:\n",
    "    data_by_conditions[cond] = df[df[\"condition\"] == cond]"
   ]
  },
  {
   "cell_type": "code",
   "execution_count": 87,
   "metadata": {},
   "outputs": [],
   "source": [
    "# palette for visualization\n",
    "\n",
    "palette_conditions={\n",
    "    \"mouse\":\"#ff8a3e44\",\n",
    "    \"mouse_latency\":\"#fff49844\",\n",
    "    \"touchpad\":\"#99e26944\",\n",
    "    \"pose\":\"#8dcde244\"\n",
    "}"
   ]
  },
  {
   "cell_type": "code",
   "execution_count": 88,
   "metadata": {},
   "outputs": [
    {
     "name": "stdout",
     "output_type": "stream",
     "text": [
      "mouse\n",
      "mouse_latency\n",
      "pose\n",
      "touchpad\n"
     ]
    },
    {
     "data": {
      "image/png": "[encoded data removed]",
      "text/plain": [
       "<Figure size 640x480 with 1 Axes>"
      ]
     },
     "metadata": {},
     "output_type": "display_data"
    }
   ],
   "source": [
    "results = {}\n",
    "for i,cond in enumerate(conditions):\n",
    "    df_cond = data_by_conditions[cond]\n",
    "    x = np.array(df_cond[\"ID\"]).reshape(-1,1)\n",
    "    y = df_cond[\"time\"]\n",
    "    res = LinearRegression().fit(x,y)\n",
    "    print(cond)\n",
    "    b = res.coef_[0]\n",
    "    a = res.intercept_\n",
    "    results[cond] = (a,b)\n",
    "sns.scatterplot(df, x=\"ID\", y=\"time\", hue=\"condition\", palette=palette_conditions,size=0.2)\n",
    "plt.draw()"
   ]
  },
  {
   "cell_type": "code",
   "execution_count": 98,
   "metadata": {},
   "outputs": [
    {
     "data": {
      "text/plain": [
       "<Axes: xlabel='x', ylabel='y'>"
      ]
     },
     "execution_count": 98,
     "metadata": {},
     "output_type": "execute_result"
    },
    {
     "data": {
      "image/png": "[encoded data removed]",
      "text/plain": [
       "<Figure size 640x480 with 1 Axes>"
      ]
     },
     "metadata": {},
     "output_type": "display_data"
    }
   ],
   "source": [
    "df_lines = pd.DataFrame(columns=[\"x\",\"y\",\"condition\"])\n",
    "for cond in conditions:\n",
    "    a, b = results[cond]\n",
    "    print(f\"Fitt's Law parameters for condition {cond}: a={a}; b={b}\")\n",
    "    df_new = pd.DataFrame(columns=[\"x\",\"y\",\"condition\"])\n",
    "\n",
    "    x = np.linspace(df[\"ID\"].min(), df[\"ID\"].max(),100)\n",
    "    y = a + b * x\n",
    "    df_new[\"x\"] = x\n",
    "    df_new[\"y\"] = y\n",
    "    df_new[\"condition\"] = cond\n",
    "    df_lines = pd.concat((df_lines, df_new))\n",
    "\n",
    "sns.lineplot(data=df_lines,x=\"x\",y=\"y\",hue=\"condition\")"
   ]
  },
  {
   "cell_type": "code",
   "execution_count": null,
   "metadata": {},
   "outputs": [],
   "source": []
  }
 ],
 "metadata": {
  "kernelspec": {
   "display_name": "Python 3",
   "language": "python",
   "name": "python3"
  },
  "language_info": {
   "codemirror_mode": {
    "name": "ipython",
    "version": 3
   },
   "file_extension": ".py",
   "mimetype": "text/x-python",
   "name": "python",
   "nbconvert_exporter": "python",
   "pygments_lexer": "ipython3",
   "version": "3.10.5"
  }
 },
 "nbformat": 4,
 "nbformat_minor": 2
}
